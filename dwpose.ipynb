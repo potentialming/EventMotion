{
 "cells": [
  {
   "cell_type": "code",
   "execution_count": 18,
   "metadata": {},
   "outputs": [
    {
     "name": "stdout",
     "output_type": "stream",
     "text": [
      "Original pose_image shape: (3, 1275, 800)\n",
      "Transposed pose_image shape: (1275, 800, 3)\n"
     ]
    },
    {
     "data": {
      "image/png": "[encoded data removed]",
      "text/plain": [
       "<Figure size 640x480 with 1 Axes>"
      ]
     },
     "metadata": {},
     "output_type": "display_data"
    }
   ],
   "source": [
    "from dwpose.preprocess import get_image_pose\n",
    "from PIL import Image\n",
    "import matplotlib.pyplot as plt\n",
    "import numpy as np\n",
    "\n",
    "# 使用 Pillow 读取参考图像\n",
    "try:\n",
    "    ref_image = Image.open('/root/autodl-tmp/EventMotion/example/reference/02.jpeg')\n",
    "    # 将图像转换为 NumPy 数组\n",
    "    ref_image_rgb = np.array(ref_image)\n",
    "except FileNotFoundError:\n",
    "    print(\"文件未找到，请检查文件路径是否正确。\")\n",
    "except Exception as e:\n",
    "    print(f\"无法读取图像文件：{e}\")\n",
    "    ref_image_rgb = None\n",
    "\n",
    "if ref_image_rgb is not None:\n",
    "    # 检查图像是否为 RGBA 格式（带有透明度通道）\n",
    "    if ref_image_rgb.shape[2] == 4:\n",
    "        # 如果有 Alpha 通道，去除 Alpha 通道\n",
    "        ref_image_rgb = ref_image_rgb[:, :, :3]\n",
    "\n",
    "    # 确保图像为 RGB 格式\n",
    "    if ref_image.mode != 'RGB':\n",
    "        ref_image_rgb = ref_image.convert('RGB')\n",
    "        ref_image_rgb = np.array(ref_image_rgb)\n",
    "\n",
    "    # 调用 get_image_pose 方法\n",
    "    pose_image = get_image_pose(ref_image_rgb)\n",
    "\n",
    "    # 检查返回的图像形状\n",
    "    print(\"Original pose_image shape:\", pose_image.shape)\n",
    "\n",
    "    # 如果返回的图像是 (height, width, 3) 形状，则不需要转置\n",
    "    if pose_image.shape[2] == 3:\n",
    "        # 直接使用 pose_image\n",
    "        print(\"Pose image is already in the correct shape.\")\n",
    "    else:\n",
    "        # 重新排列维度\n",
    "        pose_image = np.transpose(pose_image, (1, 2, 0))\n",
    "        print(\"Transposed pose_image shape:\", pose_image.shape)\n",
    "\n",
    "    # 显示输出的骨架图\n",
    "    plt.imshow(pose_image)\n",
    "    plt.axis('off')  # 隐藏坐标轴\n",
    "    plt.show()\n",
    "else:\n",
    "    print(\"由于无法读取图像，程序终止。\")\n"
   ]
  },
  {
   "cell_type": "code",
   "execution_count": null,
   "metadata": {},
   "outputs": [
    {
     "name": "stdout",
     "output_type": "stream",
     "text": [
      "使用 Pillow 成功读取图像。\n"
     ]
    }
   ],
   "source": [
    "import cv2\n",
    "import matplotlib.pyplot as plt\n",
    "from PIL import Image\n",
    "\n",
    "# 读取图像\n",
    "image_path='/root/autodl-tmp/EventMotion/example/reference/0001.png'\n",
    "\n",
    "\n",
    "\n"
   ]
  }
 ],
 "metadata": {
  "kernelspec": {
   "display_name": "diffusers",
   "language": "python",
   "name": "python3"
  },
  "language_info": {
   "codemirror_mode": {
    "name": "ipython",
    "version": 3
   },
   "file_extension": ".py",
   "mimetype": "text/x-python",
   "name": "python",
   "nbconvert_exporter": "python",
   "pygments_lexer": "ipython3",
   "version": "3.8.18"
  }
 },
 "nbformat": 4,
 "nbformat_minor": 2
}
