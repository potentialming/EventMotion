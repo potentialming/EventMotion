{
 "cells": [
  {
   "cell_type": "code",
   "execution_count": 1,
   "metadata": {},
   "outputs": [
    {
     "name": "stderr",
     "output_type": "stream",
     "text": [
      "/root/miniconda3/envs/diffusers/lib/python3.8/site-packages/tqdm/auto.py:21: TqdmWarning: IProgress not found. Please update jupyter and ipywidgets. See https://ipywidgets.readthedocs.io/en/stable/user_install.html\n",
      "  from .autonotebook import tqdm as notebook_tqdm\n"
     ]
    }
   ],
   "source": [
    "import torch\n",
    "from PIL import Image\n",
    "import os\n",
    "import re\n",
    "from PIL import Image\n",
    "\n",
    "from models.controlnext_vid_svd import ControlNeXtSDVModel\n",
    "from models.unet_spatio_temporal_condition_controlnext import UNetSpatioTemporalConditionControlNeXtModel\n",
    "from pipelines.pipeline_stable_video_diffusion import StableVideoDiffusionPipeline\n",
    "\n",
    "from diffusers.utils import load_image, export_to_video, export_to_gif"
   ]
  },
  {
   "cell_type": "code",
   "execution_count": 2,
   "metadata": {},
   "outputs": [],
   "source": [
    "def load_images_from_folder(folder):\n",
    "    images = []\n",
    "    valid_extensions = {\".jpg\", \".jpeg\", \".png\", \".bmp\", \".gif\", \".tiff\"}  # Add or remove extensions as needed\n",
    "\n",
    "    # Function to extract frame number from the filename\n",
    "    def frame_number(filename):\n",
    "        # First, try the pattern 'frame_x_7fps'\n",
    "        new_pattern_match = re.search(r'frame_(\\d+)_7fps', filename)\n",
    "        if new_pattern_match:\n",
    "            return int(new_pattern_match.group(1))\n",
    "        # If the new pattern is not found, use the original digit extraction method\n",
    "        matches = re.findall(r'\\d+', filename)\n",
    "        if matches:\n",
    "            if matches[-1] == '0000' and len(matches) > 1:\n",
    "                return int(matches[-2])  # Return the second-to-last sequence if the last is '0000'\n",
    "            return int(matches[-1])  # Otherwise, return the last sequence\n",
    "        return float('inf')  # Return 'inf'\n",
    "\n",
    "    # Sorting files based on frame number\n",
    "    sorted_files = sorted(os.listdir(folder), key=frame_number)\n",
    "\n",
    "    # Load images in sorted order\n",
    "    for filename in sorted_files:\n",
    "        ext = os.path.splitext(filename)[1].lower()\n",
    "        if ext in valid_extensions:\n",
    "            img = Image.open(os.path.join(folder, filename)).convert('RGB')\n",
    "            images.append(img)\n",
    "\n",
    "    return images"
   ]
  },
  {
   "cell_type": "code",
   "execution_count": null,
   "metadata": {},
   "outputs": [
    {
     "name": "stderr",
     "output_type": "stream",
     "text": [
      "Loading pipeline components...: 100%|██████████| 5/5 [00:01<00:00,  2.83it/s]\n"
     ]
    }
   ],
   "source": [
    "controlnext = ControlNeXtSDVModel.from_pretrained(\n",
    "    \"./outputs/event_motion_svd\",\n",
    "    # \"./outputs/checkpoint-40000\",\n",
    "    subfolder=\"controlnext\",\n",
    "    torch_dtype=torch.float16,\n",
    "    low_cpu_mem_usage=False,\n",
    ")\n",
    "\n",
    "unet = UNetSpatioTemporalConditionControlNeXtModel.from_pretrained(\n",
    "    \"./outputs/event_motion_svd\",\n",
    "    # \"./outputs/checkpoint-40000\",\n",
    "    subfolder=\"unet\",\n",
    "    torch_dtype=torch.float16,\n",
    "    low_cpu_mem_usage=False,\n",
    ")\n",
    "\n",
    "pipe = StableVideoDiffusionPipeline.from_pretrained(\n",
    "    \"stabilityai/stable-video-diffusion-img2vid-xt-1-1\",\n",
    "    unet=unet,\n",
    "    controlnext=controlnext,\n",
    "    low_cpu_mem_usage=False,\n",
    "    torch_dtype=torch.float16, variant=\"fp16\", local_files_only=True,\n",
    "    cache_dir=\"/root/autodl-tmp/models_cache\"\n",
    ")"
   ]
  },
  {
   "cell_type": "code",
   "execution_count": 15,
   "metadata": {},
   "outputs": [],
   "source": [
    "validation_image_dir = \"/root/autodl-tmp/TikTok_event/val_set/video_001/0002.png\"\n",
    "validation_control_folder = \"/root/autodl-tmp/TikTok_event/event_val_set/video_001\"\n",
    "start_frame = 80\n",
    "num_frames = 14\n",
    "device = \"cuda\"\n",
    "wdtype=torch.float16"
   ]
  },
  {
   "cell_type": "code",
   "execution_count": null,
   "metadata": {},
   "outputs": [
    {
     "name": "stderr",
     "output_type": "stream",
     "text": [
      "100%|██████████| 25/25 [00:03<00:00,  6.78it/s]\n",
      "/root/miniconda3/envs/diffusers/lib/python3.8/site-packages/torch/nn/modules/conv.py:605: UserWarning: Plan failed with a cudnnException: CUDNN_BACKEND_EXECUTION_PLAN_DESCRIPTOR: cudnnFinalize Descriptor Failed cudnn_status: CUDNN_STATUS_NOT_SUPPORTED (Triggered internally at ../aten/src/ATen/native/cudnn/Conv_v8.cpp:919.)\n",
      "  return F.conv3d(\n"
     ]
    },
    {
     "data": {
      "text/plain": [
       "'generated.mp4'"
      ]
     },
     "execution_count": 20,
     "metadata": {},
     "output_type": "execute_result"
    },
    {
     "ename": "",
     "evalue": "",
     "output_type": "error",
     "traceback": [
      "\u001b[1;31m在当前单元格或上一个单元格中执行代码时 Kernel 崩溃。\n",
      "\u001b[1;31m请查看单元格中的代码，以确定故障的可能原因。\n",
      "\u001b[1;31m单击<a href='https://aka.ms/vscodeJupyterKernelCrash'>此处</a>了解详细信息。\n",
      "\u001b[1;31m有关更多详细信息，请查看 Jupyter <a href='command:jupyter.viewOutput'>log</a>。"
     ]
    }
   ],
   "source": [
    "validation_image = Image.open(validation_image_dir).convert('RGB')\n",
    "validation_control_images = load_images_from_folder(validation_control_folder)\n",
    "validation_control_images = validation_control_images[start_frame:start_frame+num_frames]\n",
    "\n",
    "# validation_image = validation_image.resize((576, 1024))\n",
    "validation_image = validation_image.resize((1024, 640))\n",
    "\n",
    "generator = torch.manual_seed(2024)\n",
    "\n",
    "pipe = pipe.to(device)\n",
    "\n",
    "with torch.inference_mode():\n",
    "    frames = pipe(\n",
    "        validation_image,\n",
    "        validation_control_images,\n",
    "        control_scale=0.3,\n",
    "        num_frames=num_frames,\n",
    "        width=128,\n",
    "        height=256,\n",
    "        # width=576,\n",
    "        # height=1024,\n",
    "        # width=1024,\n",
    "        # height=640,\n",
    "        decode_chunk_size=4,\n",
    "        generator=generator,\n",
    "        motion_bucket_id=127,\n",
    "        fps=7, \n",
    "        num_inference_steps=25,\n",
    "        noise_aug_strength=0.02\n",
    "        ).frames[0]\n",
    "export_to_video(frames, \"generated.mp4\", fps=7)\n",
    "# 将frames保存到指定文件夹\n",
    "# for i, frame in enumerate(frames):\n",
    "#     frame.save(f\"frame_{i}.png\")"
   ]
  }
 ],
 "metadata": {
  "kernelspec": {
   "display_name": "diffusers",
   "language": "python",
   "name": "python3"
  },
  "language_info": {
   "codemirror_mode": {
    "name": "ipython",
    "version": 3
   },
   "file_extension": ".py",
   "mimetype": "text/x-python",
   "name": "python",
   "nbconvert_exporter": "python",
   "pygments_lexer": "ipython3",
   "version": "3.8.18"
  }
 },
 "nbformat": 4,
 "nbformat_minor": 4
}
